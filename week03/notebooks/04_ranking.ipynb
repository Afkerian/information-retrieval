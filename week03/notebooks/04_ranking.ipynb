{
 "cells": [
  {
   "cell_type": "markdown",
   "id": "79a53fcc41f692bf",
   "metadata": {
    "collapsed": false
   },
   "source": [
    "# Exploring Ranking Models in Information Retrieval\n",
    "\n",
    "## Objective\n",
    "Understand the practical implementation and differences between the Vector Space Model and the Binary Independence Model in ranking documents relative to a user query."
   ]
  },
  {
   "cell_type": "markdown",
   "id": "c965f8d120975418",
   "metadata": {
    "collapsed": false
   },
   "source": [
    "### Step 1: Data Preprocessing\n",
    "\n",
    "Ensure that the documents are still loaded and preprocessed from the previous task. The data should be clean and ready for advanced querying.\n",
    "Write a function to load and preprocess the text documents from a specified directory. This step involves reading each file, converting the text to lowercase for uniform processing, and storing the results in a dictionary."
   ]
  },
  {
   "cell_type": "code",
   "execution_count": 1,
   "id": "a185456ec7a7c810",
   "metadata": {
    "ExecuteTime": {
     "end_time": "2024-05-07T13:18:16.854511Z",
     "start_time": "2024-05-07T13:18:14.438393Z"
    },
    "collapsed": false
   },
   "outputs": [],
   "source": [
    "import os\n",
    "\n",
    "# Define the path to the directory containing the text files\n",
    "CORPUS_DIR = '../../week01/data'\n",
    "documents = {}\n",
    "for filename in os.listdir(CORPUS_DIR):\n",
    "    if filename.endswith('.txt'):\n",
    "        file_path = os.path.join(CORPUS_DIR, filename)\n",
    "        with open(file_path, 'r', encoding='utf-8') as file:\n",
    "            documents[filename] = file.read().lower()  # Read and convert to lowercase"
   ]
  },
  {
   "cell_type": "markdown",
   "id": "f3064ebb2dba4d47",
   "metadata": {
    "collapsed": false
   },
   "source": [
    "### Step 2:  Vector Space Model (VSM)\n",
    "\n",
    "Task: Implement a simple Vector Space Model using term frequency.\n",
    "\n",
    "Requirements:\n",
    "* _Document and Query Representation:_ Convert each document and the query into a vector where each dimension corresponds to a term from the corpus. Use simple term frequency for weighting."
   ]
  },
  {
   "cell_type": "code",
   "execution_count": 6,
   "id": "initial_id",
   "metadata": {
    "ExecuteTime": {
     "end_time": "2024-05-07T13:18:16.869494Z",
     "start_time": "2024-05-07T13:18:16.856515Z"
    },
    "collapsed": false
   },
   "outputs": [
    {
     "ename": "SyntaxError",
     "evalue": "invalid syntax (422150163.py, line 1)",
     "output_type": "error",
     "traceback": [
      "\u001b[1;36m  Cell \u001b[1;32mIn[6], line 1\u001b[1;36m\u001b[0m\n\u001b[1;33m    documents.shape[]\u001b[0m\n\u001b[1;37m                    ^\u001b[0m\n\u001b[1;31mSyntaxError\u001b[0m\u001b[1;31m:\u001b[0m invalid syntax\n"
     ]
    }
   ],
   "source": []
  },
  {
   "cell_type": "markdown",
   "id": "3c0d278a",
   "metadata": {},
   "source": [
    "* _Cosine Similarity Calculation:_ Calculate the cosine similarity between the query vector and each document vector.\n"
   ]
  },
  {
   "cell_type": "code",
   "execution_count": null,
   "id": "64fa4b5d",
   "metadata": {},
   "outputs": [],
   "source": []
  },
  {
   "cell_type": "markdown",
   "id": "23052223",
   "metadata": {},
   "source": [
    "* _Ranking:_ Rank the documents based on their cosine similarity scores from highest to lowest."
   ]
  },
  {
   "cell_type": "markdown",
   "id": "3d15c14078fe119f",
   "metadata": {
    "collapsed": false
   },
   "source": [
    "### Step 3: Binary Independence Model (BIM)\n",
    "\n",
    "Task: Implement a basic Binary Independence Model to rank documents.\n",
    "\n",
    "Requirements:\n",
    "* _Binary Representation:_ Represent the corpus and the query in binary vectors (1 if the term is present, 0 otherwise).\n",
    "* _Probability Estimation:_ Assume arbitrary probabilities for the presence of each term in relevant and non-relevant documents.\n",
    "* _Relevance Scoring:_ Calculate the relevance score for each document based on the product of probabilities for terms present in the query.\n",
    "* _Ranking:_ Rank the documents based on their relevance scores from highest to lowest."
   ]
  },
  {
   "cell_type": "code",
   "execution_count": 1,
   "id": "b0392aa935dc471b",
   "metadata": {
    "ExecuteTime": {
     "end_time": "2024-05-07T13:18:16.884740Z",
     "start_time": "2024-05-07T13:18:16.870498Z"
    },
    "collapsed": false
   },
   "outputs": [],
   "source": []
  }
 ],
 "metadata": {
  "kernelspec": {
   "display_name": "Python 3",
   "language": "python",
   "name": "python3"
  },
  "language_info": {
   "codemirror_mode": {
    "name": "ipython",
    "version": 3
   },
   "file_extension": ".py",
   "mimetype": "text/x-python",
   "name": "python",
   "nbconvert_exporter": "python",
   "pygments_lexer": "ipython3",
   "version": "3.11.9"
  }
 },
 "nbformat": 4,
 "nbformat_minor": 5
}
