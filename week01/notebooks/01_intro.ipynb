{
 "cells": [
  {
   "cell_type": "markdown",
   "id": "87a197ffb621d407",
   "metadata": {
    "collapsed": false
   },
   "source": [
    "# Term Search in Documents\n",
    "\n",
    "## Objective\n",
    "The goal of this exercise is to develop a simple information retrieval system that allows the user to search for a specific term across a set of text documents. This will introduce you to the basics of text processing and searching algorithms in the context of information retrieval.\n",
    "\n",
    "## Problem Description\n",
    "You are provided with a set of text documents. Your task is to implement a search function that:\n",
    "- Takes a user-inputted term as the query.\n",
    "- Searches for this term across all the provided documents.\n",
    "- Returns a list of documents where the term appears.\n",
    "\n",
    "\n"
   ]
  },
  {
   "cell_type": "markdown",
   "id": "5ecdcb19",
   "metadata": {},
   "source": [
    "## Requirements\n",
    "\n",
    "```\n",
    "pandas\n",
    "numpy\n",
    "scikit-learn\n",
    "matplotlib\n",
    "jupyter\n",
    "requests\n",
    "bs4\n",
    "wget\n",
    "```\n"
   ]
  },
  {
   "cell_type": "markdown",
   "id": "c17c7f1d",
   "metadata": {},
   "source": [
    "### Step 1: Preparing the Data\n",
    "- **Load the Documents**: You will start by loading the text documents into your program. These documents can be in plain text format stored in a directory.\n",
    "\n",
    "\n"
   ]
  },
  {
   "cell_type": "code",
   "execution_count": null,
   "id": "08e13fd6",
   "metadata": {},
   "outputs": [],
   "source": [
    "import requests\n",
    "from bs4 import BeautifulSoup\n",
    "import wget\n",
    "import os\n",
    "import re\n",
    "\n",
    "\n",
    "# Crear la carpeta para almacenar los archivos descargados si no existe\n",
    "download_folder = \"../../week01/data\"\n",
    "if not os.path.exists(download_folder):\n",
    "    os.makedirs(download_folder)\n",
    "\n",
    "\n",
    "# URL de la página de los primeros 100 libros de Gutenberg\n",
    "url = \"https://www.gutenberg.org/browse/scores/top#books-last1\"\n",
    "\n",
    "# Descargar la página\n",
    "response = requests.get(url)\n",
    "soup = BeautifulSoup(response.text, \"html.parser\")\n",
    "\n",
    "# Encontrar todos los enlaces que contienen \"/ebooks/\"\n",
    "links = soup.find_all(\"a\", href=lambda href: href and \"/ebooks/\" in href)\n",
    "\n",
    "\n",
    "# Obtener los primeros 100 enlaces\n",
    "top_100_links = links[:100]\n",
    "\n",
    "\n",
    "for link in top_100_links:\n",
    "    # Extraer el número de identificación del libro del enlace\n",
    "    match = re.search(r'/(\\d+)/?$', link[\"href\"])\n",
    "    if match:\n",
    "        book_id = match.group(1)\n",
    "        download_link = f\"https://www.gutenberg.org/cache/epub/{book_id}/pg{book_id}.txt\"\n",
    "        file_name = f\"pg{book_id}.txt\"\n",
    "        file_path = os.path.join(download_folder, file_name)  # Ruta completa del archivo a guardar\n",
    "        print(\"Descargando:\", download_link)\n",
    "        try:\n",
    "            wget.download(download_link, out=file_path)\n",
    "            print(\"Descargado y guardado en:\", file_path)\n",
    "        except Exception as e:\n",
    "            print(\"Error al descargar el archivo:\", str(e))\n",
    "    else:\n",
    "        print(\"Sin numero de identificación en el enlace:\", link[\"href\"])"
   ]
  },
  {
   "cell_type": "markdown",
   "id": "1dcbda81",
   "metadata": {},
   "source": [
    "- **Read Each Document**: Implement a function to read each document and store its contents in a data structure of your choice (e.g., a list)."
   ]
  },
  {
   "cell_type": "code",
   "execution_count": null,
   "id": "55e008e6",
   "metadata": {},
   "outputs": [],
   "source": []
  },
  {
   "cell_type": "markdown",
   "id": "38f6c076",
   "metadata": {},
   "source": [
    "### Step 2: Implementing the Search\n",
    "- **Input Query**: Implement a function to accept a query term from the user."
   ]
  },
  {
   "cell_type": "code",
   "execution_count": null,
   "id": "3bdbe2de",
   "metadata": {},
   "outputs": [],
   "source": []
  },
  {
   "cell_type": "markdown",
   "id": "17832aa7",
   "metadata": {},
   "source": [
    "- **Search Function**: Create a function that:\n",
    "  - Iterates through each document.\n",
    "  - Checks if the query term appears in the document.\n",
    "  - You may choose to implement case-insensitive search to improve user experience."
   ]
  },
  {
   "cell_type": "code",
   "execution_count": null,
   "id": "23edc249",
   "metadata": {},
   "outputs": [],
   "source": []
  },
  {
   "cell_type": "markdown",
   "id": "df6ae92a",
   "metadata": {},
   "source": [
    "- **Return Results**: The function should return the names or identifiers of the documents where the term is found."
   ]
  },
  {
   "cell_type": "code",
   "execution_count": null,
   "id": "6a9db405",
   "metadata": {},
   "outputs": [],
   "source": []
  },
  {
   "cell_type": "markdown",
   "id": "52803dd0",
   "metadata": {},
   "source": [
    "### Step 3: Displaying Results\n",
    "- **Output the Results**: For each search query, output the results in a user-friendly format, listing the documents where the term was found, or a message indicating that the term does not appear in any document.\n"
   ]
  },
  {
   "cell_type": "code",
   "execution_count": null,
   "id": "7556c5d8",
   "metadata": {},
   "outputs": [],
   "source": []
  },
  {
   "cell_type": "markdown",
   "id": "d7499a57",
   "metadata": {},
   "source": [
    "## Evaluation Criteria\n",
    "- **Correctness**: The search function should accurately identify documents containing the term.\n",
    "- **Efficiency**: While efficiency may not be critical for small datasets, consider the efficiency of your search algorithm.\n",
    "- **Usability**: The interface for inputting search terms and viewing results should be clear and easy to use.\n",
    "\n",
    "## Additional Challenges (Optional)\n",
    "- **Enhance the search functionality**: Allow for more complex queries, such as phrases or multiple terms.\n",
    "- **Improve the search with regular expressions**: Use regex for pattern matching to enhance the flexibility of the search.\n",
    "- **Implement a simple ranking system**: Rank the documents based on the frequency of the term within each document.\n",
    "\n",
    "This exercise will help you understand the fundamental mechanisms behind storing and retrieving data in the field of information retrieval. By the end of this task, you will have a basic prototype that mimics core functions of larger, more complex search engines."
   ]
  },
  {
   "cell_type": "markdown",
   "id": "a96afe8f",
   "metadata": {},
   "source": []
  },
  {
   "cell_type": "markdown",
   "id": "76210411",
   "metadata": {},
   "source": []
  }
 ],
 "metadata": {
  "kernelspec": {
   "display_name": "Python 3",
   "language": "python",
   "name": "python3"
  },
  "language_info": {
   "codemirror_mode": {
    "name": "ipython",
    "version": 3
   },
   "file_extension": ".py",
   "mimetype": "text/x-python",
   "name": "python",
   "nbconvert_exporter": "python",
   "pygments_lexer": "ipython3",
   "version": "3.11.2"
  }
 },
 "nbformat": 4,
 "nbformat_minor": 5
}
